{
 "cells": [
  {
   "cell_type": "code",
   "execution_count": 13,
   "metadata": {},
   "outputs": [],
   "source": [
    "from bokeh.sampledata import us_states, us_counties, unemployment\n",
    "from bokeh.plotting import figure, output_file, show, ColumnDataSource\n",
    "from bokeh.io import show\n",
    "from bokeh.layouts import row, widgetbox\n",
    "from bokeh.models import Slider, ColumnDataSource,HoverTool,LogColorMapper,CDSView,BooleanFilter\n",
    "from bokeh.palettes import Viridis6 as palette\n",
    "from bokeh.sampledata.us_counties import data as counties\n",
    "from bokeh.sampledata.us_states import data as states\n",
    "from bokeh.sampledata.unemployment import data as unemployment"
   ]
  },
  {
   "cell_type": "code",
   "execution_count": 14,
   "metadata": {},
   "outputs": [],
   "source": [
    "import matplotlib\n",
    "import matplotlib.pyplot as plt\n",
    "import numpy as np\n",
    "import pandas as pd"
   ]
  },
  {
   "cell_type": "code",
   "execution_count": 15,
   "metadata": {},
   "outputs": [
    {
     "name": "stderr",
     "output_type": "stream",
     "text": [
      "/Applications/anaconda3/lib/python3.6/site-packages/bokeh/models/sources.py:114: BokehUserWarning: ColumnDataSource's columns must be of the same length. Current lengths: ('name', 51), ('x', 49), ('y', 49)\n",
      "  \"Current lengths: %s\" % \", \".join(sorted(str((k, len(v))) for k, v in data.items())), BokehUserWarning))\n"
     ]
    }
   ],
   "source": [
    "us_states = us_states.data.copy()\n",
    "us_counties = us_counties.data.copy()\n",
    "h1b=pd.read_csv(\"desktop/h1b.csv\", sep=\",\") \n",
    "\n",
    "del us_states[\"HI\"]\n",
    "del us_states[\"AK\"]\n",
    "\n",
    "state_xs = [us_states[code][\"lons\"] for code in us_states]\n",
    "state_ys = [us_states[code][\"lats\"] for code in us_states]\n",
    "\n",
    "county_xs=[us_counties[code][\"lons\"] for code in us_counties if us_counties[code][\"state\"] not in [\"ak\", \"hi\", \"pr\", \"gu\", \"vi\", \"mp\", \"as\"]]\n",
    "county_ys=[us_counties[code][\"lats\"] for code in us_counties if us_counties[code][\"state\"] not in [\"ak\", \"hi\", \"pr\", \"gu\", \"vi\", \"mp\", \"as\"]]\n",
    "\n",
    "county_colors = []\n",
    "for county_id in us_counties:\n",
    "    if us_counties[county_id][\"state\"] in [\"ak\", \"hi\", \"pr\", \"gu\", \"vi\", \"mp\", \"as\"]:\n",
    "        continue\n",
    "    try:\n",
    "        rate = unemployment[county_id]\n",
    "        idx = min(int(rate/2), 5)\n",
    "    except KeyError:\n",
    "        county_colors.append(\"black\")\n",
    "        \n",
    "state_names =[state['name'] for state in states.values()]\n",
    "color_mapper = LogColorMapper(palette=palette)\n",
    "\n",
    "\n",
    "source = ColumnDataSource(data=dict(x=state_xs,\n",
    "                                   y=state_ys,\n",
    "                                   name=state_names\n",
    "                                   ))\n",
    "\n",
    "TOOLS =\"pan,wheel_zoom,reset,hover,save\"\n",
    "\n",
    "\"\"\"year_slider = Slider(start = 2009, end=2017,value=1,step=1,title=\"Year\")\n",
    "show(widgetbox(year_slider))\"\"\"\n",
    "\n",
    "output_file(\"choropleth.html\", title=\"choropleth.py example\")\n",
    "\n",
    "p = figure(title=\"US Unemployment 2009\", tools = TOOLS, toolbar_location=\"left\",\n",
    "    plot_width=1100, plot_height=700)\n",
    "\n",
    "p.patches(county_xs, county_ys, fill_alpha=0.0,\n",
    "    line_color=\"white\", line_width=0.5)\n",
    "p.patches('x', 'y', source=source, hover_color=\"blue\",fill_alpha=0.0,\n",
    "          line_color=\"black\", line_width=2, line_alpha=0.3)\n",
    "\n",
    "hover = p.select_one(HoverTool)\n",
    "hover.point_policy =\"follow_mouse\"\n",
    "hover.tooltips =[(\"Year\", \"@year\"),(\"Name\", \"@name\"),\n",
    "                (\"Unemployment rate\",\"@unemployment%\"),\n",
    "                (\"H1B visa\",\"@h1b\")]\n",
    "\n",
    "show(p)\n"
   ]
  },
  {
   "cell_type": "code",
   "execution_count": null,
   "metadata": {},
   "outputs": [],
   "source": []
  }
 ],
 "metadata": {
  "kernelspec": {
   "display_name": "Python 3",
   "language": "python",
   "name": "python3"
  },
  "language_info": {
   "codemirror_mode": {
    "name": "ipython",
    "version": 3
   },
   "file_extension": ".py",
   "mimetype": "text/x-python",
   "name": "python",
   "nbconvert_exporter": "python",
   "pygments_lexer": "ipython3",
   "version": "3.6.4"
  }
 },
 "nbformat": 4,
 "nbformat_minor": 2
}
